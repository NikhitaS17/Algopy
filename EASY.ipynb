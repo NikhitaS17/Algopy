{
  "nbformat": 4,
  "nbformat_minor": 0,
  "metadata": {
    "colab": {
      "provenance": [],
      "authorship_tag": "ABX9TyPDvAzugoTMNVgouDuOlJMt",
      "include_colab_link": true
    },
    "kernelspec": {
      "name": "python3",
      "display_name": "Python 3"
    },
    "language_info": {
      "name": "python"
    }
  },
  "cells": [
    {
      "cell_type": "markdown",
      "metadata": {
        "id": "view-in-github",
        "colab_type": "text"
      },
      "source": [
        "<a href=\"https://colab.research.google.com/github/NikhitaS17/Algopy/blob/main/EASY.ipynb\" target=\"_parent\"><img src=\"https://colab.research.google.com/assets/colab-badge.svg\" alt=\"Open In Colab\"/></a>"
      ]
    },
    {
      "cell_type": "markdown",
      "source": [
        "# **1) SEMORDNILAP**\n",
        "---\n",
        "is a word or phrase that, when read backward, forms a different word or phrase.\n",
        "Example: drawer -> reward\n",
        "\n"
      ],
      "metadata": {
        "id": "GsfK1zieF174"
      }
    },
    {
      "cell_type": "code",
      "source": [],
      "metadata": {
        "id": "48PihRySGNA-"
      },
      "execution_count": null,
      "outputs": []
    }
  ]
}